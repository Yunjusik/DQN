{
 "cells": [
  {
   "cell_type": "code",
   "execution_count": 4,
   "metadata": {},
   "outputs": [],
   "source": [
    "import torch"
   ]
  },
  {
   "cell_type": "code",
   "execution_count": 3,
   "metadata": {},
   "outputs": [],
   "source": [
    "import tensorflow as tf\n",
    "import numpy as np"
   ]
  },
  {
   "cell_type": "markdown",
   "metadata": {},
   "source": [
    "# Data type\n",
    "   ## array 의 dtype을 확인"
   ]
  },
  {
   "cell_type": "code",
   "execution_count": 8,
   "metadata": {},
   "outputs": [],
   "source": [
    "arr = np.array([[1.,2,3],[1,2,3]])"
   ]
  },
  {
   "cell_type": "code",
   "execution_count": 9,
   "metadata": {},
   "outputs": [
    {
     "data": {
      "text/plain": [
       "dtype('float64')"
      ]
     },
     "execution_count": 9,
     "metadata": {},
     "output_type": "execute_result"
    }
   ],
   "source": [
    "arr.dtype\n",
    "# data 형태 확인\n",
    "# 파이썬은 먼저 수를 넣으면 데이터타입이 알아서 정해지는스타일.. 다른언어는 미리 데이터형식 지정해줌\n"
   ]
  },
  {
   "cell_type": "code",
   "execution_count": 10,
   "metadata": {},
   "outputs": [
    {
     "data": {
      "text/plain": [
       "array([[1., 2., 3.],\n",
       "       [1., 2., 3.]], dtype=float32)"
      ]
     },
     "execution_count": 10,
     "metadata": {},
     "output_type": "execute_result"
    }
   ],
   "source": [
    "arr.astype('float32')\n",
    "# data type 변경"
   ]
  },
  {
   "cell_type": "code",
   "execution_count": 19,
   "metadata": {},
   "outputs": [
    {
     "data": {
      "text/plain": [
       "array([[1, 2, 3],\n",
       "       [1, 2, 3]])"
      ]
     },
     "execution_count": 19,
     "metadata": {},
     "output_type": "execute_result"
    }
   ],
   "source": [
    "arr2 = arr.astype(np.int32)\n",
    "arr2"
   ]
  },
  {
   "cell_type": "code",
   "execution_count": 18,
   "metadata": {},
   "outputs": [
    {
     "data": {
      "text/plain": [
       "dtype('int32')"
      ]
     },
     "execution_count": 18,
     "metadata": {},
     "output_type": "execute_result"
    }
   ],
   "source": [
    "arr2.dtype"
   ]
  },
  {
   "cell_type": "code",
   "execution_count": 20,
   "metadata": {},
   "outputs": [
    {
     "data": {
      "text/plain": [
       "(2, 3)"
      ]
     },
     "execution_count": 20,
     "metadata": {},
     "output_type": "execute_result"
    }
   ],
   "source": [
    "arr.shape"
   ]
  },
  {
   "cell_type": "code",
   "execution_count": 21,
   "metadata": {},
   "outputs": [
    {
     "data": {
      "text/plain": [
       "2"
      ]
     },
     "execution_count": 21,
     "metadata": {},
     "output_type": "execute_result"
    }
   ],
   "source": [
    "arr.ndim"
   ]
  },
  {
   "cell_type": "code",
   "execution_count": 22,
   "metadata": {},
   "outputs": [
    {
     "data": {
      "text/plain": [
       "2"
      ]
     },
     "execution_count": 22,
     "metadata": {},
     "output_type": "execute_result"
    }
   ],
   "source": [
    "len(arr.shape)"
   ]
  },
  {
   "cell_type": "code",
   "execution_count": 24,
   "metadata": {},
   "outputs": [
    {
     "name": "stdout",
     "output_type": "stream",
     "text": [
      "6\n",
      "[[1. 2. 3.]\n",
      " [1. 2. 3.]]\n"
     ]
    }
   ],
   "source": [
    "print(arr.size)\n",
    "print(arr)\n"
   ]
  },
  {
   "cell_type": "markdown",
   "metadata": {},
   "source": [
    "# Reshape"
   ]
  },
  {
   "cell_type": "code",
   "execution_count": 28,
   "metadata": {},
   "outputs": [
    {
     "name": "stdout",
     "output_type": "stream",
     "text": [
      "(1, 6)\n",
      "[[1. 2. 3. 1. 2. 3.]]\n"
     ]
    }
   ],
   "source": [
    "arr = arr.reshape([1,6])\n",
    "print(arr.shape)\n",
    "print(arr)\n",
    "#사이즈는 유지하고 모양만 변경"
   ]
  },
  {
   "cell_type": "code",
   "execution_count": 29,
   "metadata": {},
   "outputs": [],
   "source": [
    "arr = np.array([[1,2,3,],[1,2,3]])"
   ]
  },
  {
   "cell_type": "code",
   "execution_count": 34,
   "metadata": {},
   "outputs": [
    {
     "name": "stdout",
     "output_type": "stream",
     "text": [
      "(6,)\n",
      "[1 2 3 1 2 3]\n"
     ]
    }
   ],
   "source": [
    "arr3 = arr.reshape([6]).shape\n",
    "print(arr3)\n",
    "arr4= arr.reshape([6])\n",
    "print(arr4)"
   ]
  },
  {
   "cell_type": "markdown",
   "metadata": {},
   "source": [
    "# Reshap, -1 활용\n",
    "\n",
    "## reshape -1은 data dimension 모를때 사용\n",
    "### row/column 중 하나만 값 지정하고 나머지 -1넣어주면, 정해진 값에 맞춰서 reshape 진행"
   ]
  },
  {
   "cell_type": "code",
   "execution_count": 43,
   "metadata": {},
   "outputs": [
    {
     "data": {
      "text/plain": [
       "array([[1, 2, 3],\n",
       "       [1, 2, 3]])"
      ]
     },
     "execution_count": 43,
     "metadata": {},
     "output_type": "execute_result"
    }
   ],
   "source": [
    "arr = np.array([[1,2,3,],[1,2,3]])\n",
    "arr"
   ]
  },
  {
   "cell_type": "code",
   "execution_count": 51,
   "metadata": {},
   "outputs": [
    {
     "name": "stdout",
     "output_type": "stream",
     "text": [
      "[1 2 3 1 2 3]\n",
      "(6,)\n",
      "[[1 2 3 1 2 3]]\n",
      "(1, 6)\n",
      "[[1]\n",
      " [2]\n",
      " [3]\n",
      " [1]\n",
      " [2]\n",
      " [3]]\n",
      "(6, 1)\n",
      "---------------\n",
      "[[1 2 3]\n",
      " [1 2 3]]\n",
      "(2, 3)\n"
     ]
    }
   ],
   "source": [
    "print(arr.reshape(-1))\n",
    "print(arr.reshape(-1).shape)\n",
    "# 위 array 2x3이 reshape -1을 통해 1x6으로 바뀜. \n",
    "# 보통 -1만 사용하면, 1자배열로 바뀜\n",
    "\n",
    "print(arr.reshape(1,-1))\n",
    "print(arr.reshape(1,-1).shape)\n",
    "# 1,-1하는경우 2x3에서 1x6으로변경\n",
    "# 앞의 수를 1로 정해주면, 해당 row가 1인것이므로, 1x6으로 변경.\n",
    "\n",
    "print(arr.reshape(-1,1))\n",
    "print(arr.reshape(-1,1).shape)\n",
    "# -1,1 하는경우 2x3에서, 6x1로 변경.\n",
    "# -1에 해당하는부분은 자동맞춤이고, 뒤에 column size가 1이므로, 사이즈의 최대값을 row로 반환하여 정렬. (size = 6)\n",
    "\n",
    "print('---------------')\n",
    "print(arr.reshape(-1,3))\n",
    "print(arr.reshape(-1,3).shape)\n",
    "# -1부분은 알아서맞추고, column이 3. 따라서 2x3으로 정렬됨.\n"
   ]
  },
  {
   "cell_type": "markdown",
   "metadata": {},
   "source": [
    "# random array 생성"
   ]
  },
  {
   "cell_type": "code",
   "execution_count": 5,
   "metadata": {},
   "outputs": [
    {
     "data": {
      "text/plain": [
       "(8, 8)"
      ]
     },
     "execution_count": 5,
     "metadata": {},
     "output_type": "execute_result"
    }
   ],
   "source": [
    "arr = np.random.randn(8, 8)\n",
    "arr.shape"
   ]
  },
  {
   "cell_type": "code",
   "execution_count": 6,
   "metadata": {},
   "outputs": [
    {
     "data": {
      "text/plain": [
       "(32, 2)"
      ]
     },
     "execution_count": 6,
     "metadata": {},
     "output_type": "execute_result"
    }
   ],
   "source": [
    "arr= arr.reshape([32,2])\n",
    "arr.shape"
   ]
  },
  {
   "cell_type": "code",
   "execution_count": 7,
   "metadata": {},
   "outputs": [
    {
     "data": {
      "text/plain": [
       "array([[-1.34068861,  1.23789375],\n",
       "       [ 0.45311872,  1.04223403],\n",
       "       [-0.04452017, -0.40679634],\n",
       "       [ 1.51513374,  0.09750298],\n",
       "       [-0.23440999,  0.37924977],\n",
       "       [ 0.30006504,  1.08926823],\n",
       "       [-0.8880761 ,  0.10872841],\n",
       "       [-0.86803599, -0.24424224],\n",
       "       [-1.41699464,  0.55914047],\n",
       "       [ 0.19015188, -1.98382674],\n",
       "       [-0.57880018, -1.5669125 ],\n",
       "       [-0.16969313, -1.83015722],\n",
       "       [ 0.80571232,  1.50047134],\n",
       "       [-1.09147822,  0.16147461],\n",
       "       [ 0.19994186, -2.46644406],\n",
       "       [-1.43027361, -0.38789752],\n",
       "       [-0.63410044,  0.54242429],\n",
       "       [ 2.59972773,  0.11006286],\n",
       "       [-1.95546733, -0.97430866],\n",
       "       [ 0.3736569 , -0.35651667],\n",
       "       [-1.20969805,  0.52081778],\n",
       "       [-1.56404655, -0.52140776],\n",
       "       [-0.63875187,  0.03890819],\n",
       "       [-0.62494279, -0.67251995],\n",
       "       [ 0.38899254, -1.47664868],\n",
       "       [ 0.47539173,  0.38884654],\n",
       "       [-0.04762926, -0.6589114 ],\n",
       "       [-0.96422773,  1.19100445],\n",
       "       [-0.32823368,  0.73490756],\n",
       "       [ 0.77222073, -3.0895895 ],\n",
       "       [ 0.52332788, -0.12640681],\n",
       "       [ 1.55463527, -0.60644954]])"
      ]
     },
     "execution_count": 7,
     "metadata": {},
     "output_type": "execute_result"
    }
   ],
   "source": [
    "arr"
   ]
  },
  {
   "cell_type": "markdown",
   "metadata": {},
   "source": [
    "# 3차원으로 확장"
   ]
  },
  {
   "cell_type": "code",
   "execution_count": 8,
   "metadata": {},
   "outputs": [
    {
     "data": {
      "text/plain": [
       "(16, 2, 2)"
      ]
     },
     "execution_count": 8,
     "metadata": {},
     "output_type": "execute_result"
    }
   ],
   "source": [
    "arr = arr.reshape(-1,2,2)\n",
    "arr.shape"
   ]
  },
  {
   "cell_type": "markdown",
   "metadata": {},
   "source": [
    "# Ravel\n"
   ]
  },
  {
   "cell_type": "raw",
   "metadata": {},
   "source": []
  },
  {
   "cell_type": "code",
   "execution_count": 9,
   "metadata": {},
   "outputs": [
    {
     "data": {
      "text/plain": [
       "(16, 2, 2)"
      ]
     },
     "execution_count": 9,
     "metadata": {},
     "output_type": "execute_result"
    }
   ],
   "source": [
    "arr.shape"
   ]
  },
  {
   "cell_type": "code",
   "execution_count": 11,
   "metadata": {},
   "outputs": [
    {
     "data": {
      "text/plain": [
       "array([-1.34068861,  1.23789375,  0.45311872,  1.04223403, -0.04452017,\n",
       "       -0.40679634,  1.51513374,  0.09750298, -0.23440999,  0.37924977,\n",
       "        0.30006504,  1.08926823, -0.8880761 ,  0.10872841, -0.86803599,\n",
       "       -0.24424224, -1.41699464,  0.55914047,  0.19015188, -1.98382674,\n",
       "       -0.57880018, -1.5669125 , -0.16969313, -1.83015722,  0.80571232,\n",
       "        1.50047134, -1.09147822,  0.16147461,  0.19994186, -2.46644406,\n",
       "       -1.43027361, -0.38789752, -0.63410044,  0.54242429,  2.59972773,\n",
       "        0.11006286, -1.95546733, -0.97430866,  0.3736569 , -0.35651667,\n",
       "       -1.20969805,  0.52081778, -1.56404655, -0.52140776, -0.63875187,\n",
       "        0.03890819, -0.62494279, -0.67251995,  0.38899254, -1.47664868,\n",
       "        0.47539173,  0.38884654, -0.04762926, -0.6589114 , -0.96422773,\n",
       "        1.19100445, -0.32823368,  0.73490756,  0.77222073, -3.0895895 ,\n",
       "        0.52332788, -0.12640681,  1.55463527, -0.60644954])"
      ]
     },
     "execution_count": 11,
     "metadata": {},
     "output_type": "execute_result"
    }
   ],
   "source": [
    "arr.ravel()\n",
    "# 1차원배열로 바꿔줌"
   ]
  },
  {
   "cell_type": "code",
   "execution_count": 14,
   "metadata": {},
   "outputs": [
    {
     "data": {
      "text/plain": [
       "array([ True,  True,  True,  True,  True,  True,  True,  True,  True,\n",
       "        True,  True,  True,  True,  True,  True,  True,  True,  True,\n",
       "        True,  True,  True,  True,  True,  True,  True,  True,  True,\n",
       "        True,  True,  True,  True,  True,  True,  True,  True,  True,\n",
       "        True,  True,  True,  True,  True,  True,  True,  True,  True,\n",
       "        True,  True,  True,  True,  True,  True,  True,  True,  True,\n",
       "        True,  True,  True,  True,  True,  True,  True,  True,  True,\n",
       "        True])"
      ]
     },
     "execution_count": 14,
     "metadata": {},
     "output_type": "execute_result"
    }
   ],
   "source": [
    "arr.reshape(-1) == arr.ravel()   \n",
    "# reshape(-1)과 ravel의 역할은 같다!"
   ]
  },
  {
   "cell_type": "code",
   "execution_count": null,
   "metadata": {},
   "outputs": [],
   "source": [
    "#다차원을 1차원으로 바꾸는경우가 있음"
   ]
  },
  {
   "cell_type": "markdown",
   "metadata": {},
   "source": [
    "# np.expand_dims()\n",
    "\n",
    "## size는 유지하고싶되, 차원수만 늘리고싶은 경우 사용"
   ]
  },
  {
   "cell_type": "code",
   "execution_count": 15,
   "metadata": {},
   "outputs": [
    {
     "data": {
      "text/plain": [
       "(16, 2, 2)"
      ]
     },
     "execution_count": 15,
     "metadata": {},
     "output_type": "execute_result"
    }
   ],
   "source": [
    "arr.shape"
   ]
  },
  {
   "cell_type": "code",
   "execution_count": 19,
   "metadata": {},
   "outputs": [
    {
     "name": "stdout",
     "output_type": "stream",
     "text": [
      "(1, 1, 1, 1, 16, 2, 2)\n",
      "[[[[[[[-1.34068861  1.23789375]\n",
      "      [ 0.45311872  1.04223403]]\n",
      "\n",
      "     [[-0.04452017 -0.40679634]\n",
      "      [ 1.51513374  0.09750298]]\n",
      "\n",
      "     [[-0.23440999  0.37924977]\n",
      "      [ 0.30006504  1.08926823]]\n",
      "\n",
      "     [[-0.8880761   0.10872841]\n",
      "      [-0.86803599 -0.24424224]]\n",
      "\n",
      "     [[-1.41699464  0.55914047]\n",
      "      [ 0.19015188 -1.98382674]]\n",
      "\n",
      "     [[-0.57880018 -1.5669125 ]\n",
      "      [-0.16969313 -1.83015722]]\n",
      "\n",
      "     [[ 0.80571232  1.50047134]\n",
      "      [-1.09147822  0.16147461]]\n",
      "\n",
      "     [[ 0.19994186 -2.46644406]\n",
      "      [-1.43027361 -0.38789752]]\n",
      "\n",
      "     [[-0.63410044  0.54242429]\n",
      "      [ 2.59972773  0.11006286]]\n",
      "\n",
      "     [[-1.95546733 -0.97430866]\n",
      "      [ 0.3736569  -0.35651667]]\n",
      "\n",
      "     [[-1.20969805  0.52081778]\n",
      "      [-1.56404655 -0.52140776]]\n",
      "\n",
      "     [[-0.63875187  0.03890819]\n",
      "      [-0.62494279 -0.67251995]]\n",
      "\n",
      "     [[ 0.38899254 -1.47664868]\n",
      "      [ 0.47539173  0.38884654]]\n",
      "\n",
      "     [[-0.04762926 -0.6589114 ]\n",
      "      [-0.96422773  1.19100445]]\n",
      "\n",
      "     [[-0.32823368  0.73490756]\n",
      "      [ 0.77222073 -3.0895895 ]]\n",
      "\n",
      "     [[ 0.52332788 -0.12640681]\n",
      "      [ 1.55463527 -0.60644954]]]]]]]\n"
     ]
    }
   ],
   "source": [
    "arr = np.expand_dims(arr, 0)\n",
    "print(arr.shape)\n",
    "print(arr)\n"
   ]
  },
  {
   "cell_type": "code",
   "execution_count": 21,
   "metadata": {},
   "outputs": [
    {
     "data": {
      "text/plain": [
       "array([-1.34068861,  1.23789375,  0.45311872,  1.04223403, -0.04452017,\n",
       "       -0.40679634,  1.51513374,  0.09750298, -0.23440999,  0.37924977,\n",
       "        0.30006504,  1.08926823, -0.8880761 ,  0.10872841, -0.86803599,\n",
       "       -0.24424224, -1.41699464,  0.55914047,  0.19015188, -1.98382674,\n",
       "       -0.57880018, -1.5669125 , -0.16969313, -1.83015722,  0.80571232,\n",
       "        1.50047134, -1.09147822,  0.16147461,  0.19994186, -2.46644406,\n",
       "       -1.43027361, -0.38789752, -0.63410044,  0.54242429,  2.59972773,\n",
       "        0.11006286, -1.95546733, -0.97430866,  0.3736569 , -0.35651667,\n",
       "       -1.20969805,  0.52081778, -1.56404655, -0.52140776, -0.63875187,\n",
       "        0.03890819, -0.62494279, -0.67251995,  0.38899254, -1.47664868,\n",
       "        0.47539173,  0.38884654, -0.04762926, -0.6589114 , -0.96422773,\n",
       "        1.19100445, -0.32823368,  0.73490756,  0.77222073, -3.0895895 ,\n",
       "        0.52332788, -0.12640681,  1.55463527, -0.60644954])"
      ]
     },
     "execution_count": 21,
     "metadata": {},
     "output_type": "execute_result"
    }
   ],
   "source": [
    "arr = arr.ravel()\n",
    "arr"
   ]
  },
  {
   "cell_type": "code",
   "execution_count": 22,
   "metadata": {},
   "outputs": [
    {
     "data": {
      "text/plain": [
       "(64,)"
      ]
     },
     "execution_count": 22,
     "metadata": {},
     "output_type": "execute_result"
    }
   ],
   "source": [
    "arr.shape"
   ]
  },
  {
   "cell_type": "code",
   "execution_count": 39,
   "metadata": {},
   "outputs": [
    {
     "data": {
      "text/plain": [
       "(1,\n",
       " 1,\n",
       " 1,\n",
       " 1,\n",
       " 1,\n",
       " 1,\n",
       " 1,\n",
       " 1,\n",
       " 1,\n",
       " 64,\n",
       " 1,\n",
       " 1,\n",
       " 1,\n",
       " 1,\n",
       " 1,\n",
       " 1,\n",
       " 1,\n",
       " 1,\n",
       " 1,\n",
       " 1,\n",
       " 1,\n",
       " 1,\n",
       " 1,\n",
       " 1,\n",
       " 1,\n",
       " 1,\n",
       " 1)"
      ]
     },
     "execution_count": 39,
     "metadata": {},
     "output_type": "execute_result"
    }
   ],
   "source": [
    "arr = np.expand_dims(arr, -1)\n",
    "arr.shape\n",
    "\n",
    "## 강좌에서는 차원 하나만붙었는데 예제에서는 3개씩붙음.\n",
    "# 3개씩붙는게 아니라 초기화안해줘서 계속붙었음"
   ]
  },
  {
   "cell_type": "code",
   "execution_count": 35,
   "metadata": {},
   "outputs": [
    {
     "data": {
      "text/plain": [
       "(1, 1, 1, 1, 1, 1, 1, 1, 1, 64, 1, 1, 1, 1, 1, 1, 1, 1, 1, 1, 1, 1, 1)"
      ]
     },
     "execution_count": 35,
     "metadata": {},
     "output_type": "execute_result"
    }
   ],
   "source": [
    "\n",
    "arr = np.expand_dims(np.expand_dims(arr, -1),0)\n",
    "arr.shape\n",
    "\n",
    "#expand_dims는 나중에 따로 확인"
   ]
  },
  {
   "cell_type": "code",
   "execution_count": null,
   "metadata": {},
   "outputs": [],
   "source": []
  },
  {
   "cell_type": "code",
   "execution_count": null,
   "metadata": {},
   "outputs": [],
   "source": []
  },
  {
   "cell_type": "code",
   "execution_count": null,
   "metadata": {},
   "outputs": [],
   "source": []
  },
  {
   "cell_type": "code",
   "execution_count": null,
   "metadata": {},
   "outputs": [],
   "source": []
  },
  {
   "cell_type": "code",
   "execution_count": null,
   "metadata": {},
   "outputs": [],
   "source": []
  },
  {
   "cell_type": "code",
   "execution_count": null,
   "metadata": {},
   "outputs": [],
   "source": []
  },
  {
   "cell_type": "code",
   "execution_count": null,
   "metadata": {},
   "outputs": [],
   "source": []
  },
  {
   "cell_type": "code",
   "execution_count": null,
   "metadata": {},
   "outputs": [],
   "source": []
  }
 ],
 "metadata": {
  "kernelspec": {
   "display_name": "Python 3",
   "language": "python",
   "name": "python3"
  },
  "language_info": {
   "codemirror_mode": {
    "name": "ipython",
    "version": 3
   },
   "file_extension": ".py",
   "mimetype": "text/x-python",
   "name": "python",
   "nbconvert_exporter": "python",
   "pygments_lexer": "ipython3",
   "version": "3.6.9"
  }
 },
 "nbformat": 4,
 "nbformat_minor": 2
}
